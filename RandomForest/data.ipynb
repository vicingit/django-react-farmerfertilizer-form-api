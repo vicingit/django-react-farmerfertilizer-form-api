{
 "cells": [
  {
   "cell_type": "code",
   "execution_count": 14,
   "metadata": {},
   "outputs": [
    {
     "name": "stdout",
     "output_type": "stream",
     "text": [
      "Shape of the dataset: (99, 10)\n",
      "\n",
      "First few rows of the dataset:\n",
      "   Temparature  Humidity  Moisture        pH Soil Type  Crop Type  Nitrogen  \\\n",
      "0           26        52        38  7.446363     Sandy      Maize        37   \n",
      "1           29        52        45  5.413509     Loamy  Sugarcane        12   \n",
      "2           34        65        62  5.921923     Black     Cotton         7   \n",
      "3           32        62        34  5.730465       Red    Tobacco        22   \n",
      "4           28        54        46  7.302981    Clayey      Paddy        35   \n",
      "\n",
      "   Potassium  Phosphorous Fertilizer Name  \n",
      "0          0            0            Urea  \n",
      "1          0           36             DAP  \n",
      "2          9           30        14-35-14  \n",
      "3          0           20           28-28  \n",
      "4          0            0            Urea  \n"
     ]
    }
   ],
   "source": [
    "import pandas as pd\n",
    "import numpy as np\n",
    "\n",
    "# Read the dataset\n",
    "df = pd.read_csv('FertilizerPred.csv')  # Replace 'your_dataset.csv' with the actual filename\n",
    "\n",
    "# Display the shape of the dataset\n",
    "print(\"Shape of the dataset:\", df.shape)\n",
    "\n",
    "# Display the first few rows of the dataset\n",
    "print(\"\\nFirst few rows of the dataset:\")\n",
    "print(df.head())\n"
   ]
  },
  {
   "cell_type": "code",
   "execution_count": 16,
   "metadata": {},
   "outputs": [
    {
     "name": "stdout",
     "output_type": "stream",
     "text": [
      "Unique Crops and their Counts:\n",
      "Crop Type\n",
      "Sugarcane      13\n",
      "Cotton         12\n",
      "Millets        11\n",
      "Paddy          10\n",
      "Pulses         10\n",
      "Wheat           9\n",
      "Tobacco         7\n",
      "Barley          7\n",
      "Oil seeds       7\n",
      "Ground Nuts     7\n",
      "Maize           6\n",
      "Name: count, dtype: int64\n"
     ]
    }
   ],
   "source": [
    "# List unique crops and their counts\n",
    "unique_crops = df['Crop Type'].value_counts()\n",
    "\n",
    "# Print the unique crops and their counts\n",
    "print(\"Unique Crops and their Counts:\")\n",
    "print(unique_crops)"
   ]
  },
  {
   "cell_type": "code",
   "execution_count": 17,
   "metadata": {},
   "outputs": [
    {
     "name": "stdout",
     "output_type": "stream",
     "text": [
      "Fertilizers:\n",
      "Fertilizer Name\n",
      "Urea        22\n",
      "DAP         18\n",
      "28-28       17\n",
      "14-35-14    14\n",
      "20-20       14\n",
      "17-17-17     7\n",
      "10-26-26     7\n",
      "Name: count, dtype: int64\n"
     ]
    }
   ],
   "source": [
    "unique_fertilizers = df['Fertilizer Name'].value_counts()\n",
    "\n",
    "# Print the unique crops and their counts\n",
    "print(\"Fertilizers:\")\n",
    "print(unique_fertilizers)"
   ]
  },
  {
   "cell_type": "code",
   "execution_count": 18,
   "metadata": {},
   "outputs": [
    {
     "name": "stdout",
     "output_type": "stream",
     "text": [
      "Soils:\n",
      "Soil Type\n",
      "Loamy     21\n",
      "Sandy     20\n",
      "Clayey    20\n",
      "Black     19\n",
      "Red       19\n",
      "Name: count, dtype: int64\n"
     ]
    }
   ],
   "source": [
    "unique_soils = df['Soil Type'].value_counts()\n",
    "\n",
    "# Print the unique crops and their counts\n",
    "print(\"Soils:\")\n",
    "print(unique_soils)"
   ]
  }
 ],
 "metadata": {
  "kernelspec": {
   "display_name": "Python 3",
   "language": "python",
   "name": "python3"
  },
  "language_info": {
   "codemirror_mode": {
    "name": "ipython",
    "version": 3
   },
   "file_extension": ".py",
   "mimetype": "text/x-python",
   "name": "python",
   "nbconvert_exporter": "python",
   "pygments_lexer": "ipython3",
   "version": "3.10.12"
  }
 },
 "nbformat": 4,
 "nbformat_minor": 2
}
